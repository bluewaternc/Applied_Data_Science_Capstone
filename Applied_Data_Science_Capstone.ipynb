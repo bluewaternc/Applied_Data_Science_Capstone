{
 "cells": [
  {
   "cell_type": "markdown",
   "metadata": {},
   "source": [
    "<h1>IBM Applied Data Science Capstone Project</h1>"
   ]
  },
  {
   "cell_type": "markdown",
   "metadata": {},
   "source": [
    "Jason Wise<br>\n",
    "IBM Data Science Professional Certificate Specialization Capstone Project"
   ]
  },
  {
   "cell_type": "markdown",
   "metadata": {},
   "source": [
    "<h2>Best Locations for a Gourmet Coffee Shop in<br> \n",
    "    Apex, North Carolina</h2>"
   ]
  },
  {
   "cell_type": "markdown",
   "metadata": {},
   "source": [
    "<h4>Description of the problem and background.</h4>"
   ]
  },
  {
   "cell_type": "markdown",
   "metadata": {},
   "source": [
    "<p>My hometown of Apex is a growing suburb located outside of Raleigh, NC. It's population is around 60,000. While it has many of the amenities that are attractive for suburban residents, it seems to be lacking in access to high quality coffee shops. There are plenty of places to grab an average beverage, but few establishments that cater to gourmet coffee connoisseurs.</p>\n",
    "\n",
    "<p>The market for coffee drinkers is strong. Approximately 63% of Americans are coffee drinkers. Of those consumers, around 61% consume “gourmet” coffee (1). Additionally, around 36% of the population consumes coffee brewed outside of the home (2). In general, these statistics have an upward trend (3).</p>\n",
    "\n",
    "<p>For this project, I am working with a fictional entrepreneur that wishes to open a Gourmet Coffee Shop in Apex, NC. While they have strong knowledge of the coffee shop market and some hunches about the best locale, they wish to base their business decision on more than just intuition. They have hired me to perform a data based analysis to determine a list of the top 5 locations for a Gourmet Coffee Shop in Apex.</p>\n",
    "\n",
    "<p>\n",
    "<ol type=\"1\">\n",
    "   <li>https://www.washingtonpost.com/news/voraciously/wp/2019/03/28/americas-growing-affection-for-gourmet-coffee-and-other-takeaways-from-a-new-national-survey/ </li>\n",
    "    <li>https://dailycoffeenews.com/2018/03/21/current-coffee-consumer-trends-inside-the-ncas-2018-report/ </li>\n",
    "    <li>https://arctoscoffee.com/coffee-trends-show-increase-in-gourmet-and-youth-consumption/ </li>\n",
    "</ol>\n",
    "</p>"
   ]
  },
  {
   "cell_type": "markdown",
   "metadata": {},
   "source": [
    "<h4>Description of the data and how it will be used to solve the problem.</h4>"
   ]
  },
  {
   "cell_type": "markdown",
   "metadata": {},
   "source": [
    "<p>Based on my analysis, I have chosen to acquire neighborhood and related demographic data for around 70 neighborhoods in Apex, NC that will be used as features within my model. My project plan is to:</p>\n",
    "\n",
    "<ul>\n",
    "    <li>Define the problem and the data required for a solution</li>\n",
    "    <li>Acquire the needed data and perform analysis</li>\n",
    "    <li>Explore the makeup of Apex, NC neighborhoods</li>\n",
    "    <li>Analyze each Neighborhood</li>\n",
    "    <li>Cluster Neighborhoods using k-means clustering</li>\n",
    "    <li>Examine Clusters for client recommendations</li>\n",
    "</ul>\n",
    "    \n",
    "<p>The following data sources will be used to perform a data based analysis to determine the best locations for a Gourmet Coffee Shop located in Apex, NC.</p>\n",
    "\n",
    "<p><u>List of Apex, NC Subdivisions and Related Property Sales Figures</u><br>\n",
    "http://trianglearearealty.com/apex-nc-subdivisions/ <br>\n",
    "I will scrape this website to pull the approximately 70 different neighborhoods and their associated average sales price of homes. This data will be used to segment Apex neighborhoods according to subdivision. Additionally, average home sales prices by neighborhood will represent a demographic feature that will contribute to our analysis.</p>\n",
    "\n",
    "<p><u>GPS Coordinates for Apex, NC Subdivisions - Google Maps Apex, NC</u><br>\n",
    "https://www.google.com/maps/place/Apex,+NC/@35.7275871,-78.8999849,13z/data=!3m1!4b1!4m5!3m4!1s0x89ac92a3c19280d1:0x85cd817e17e28015!8m2!3d35.732652!4d-78.8502856 <br>\n",
    "I was not able to readily find this data in a form that could be imported. I decided to manually compile the latitude and longitude values for all Apex neighborhoods via Google Maps and add them to a CSV file that will be imported to a dataframe and merged to the list of subdivisions. The GPS coordinates will allow for data visualization and k-means clustering according to related features.</p>\n",
    "\n",
    "<p><u>Subdivision Demographic Information</u><br>\n",
    "http://www.city-data.com/nbmaps/neigh-Apex-North-Carolina.html<br>\n",
    "Also for this category, I was not able to readily find this data in a form that could be imported. I decided to manually compile Median Household Income, Population and Median Resident Age and store them to the CSV file of Apex neighborhoods that will be imported into the notebook. While this data is visualized and made available on the City-Data website, it is sourced from the United States Census data. This demographic data will be aligned to the list of neighborhoods and used as features in our model to determine the best location for a coffee shop.</p>\n",
    "\n",
    "<p><u>Foursquare Venues and Categories</u><br>\n",
    "I will utilize the Foursquare Places API to conduct a comparison of neighborhoods that may support a coffee shop. I will look at complimentary businesses in the area as well as competing businesses.</p>"
   ]
  },
  {
   "cell_type": "markdown",
   "metadata": {},
   "source": [
    "<h4>The Code...</h4>"
   ]
  },
  {
   "cell_type": "code",
   "execution_count": null,
   "metadata": {},
   "outputs": [],
   "source": [
    "import pandas as pd\n",
    "import numpy as np\n",
    "import matplotlib.cm as cm\n",
    "import matplotlib.colors as colors\n",
    "from sklearn.cluster import KMeans\n",
    "import folium"
   ]
  },
  {
   "cell_type": "code",
   "execution_count": null,
   "metadata": {},
   "outputs": [],
   "source": []
  },
  {
   "cell_type": "code",
   "execution_count": null,
   "metadata": {},
   "outputs": [],
   "source": []
  },
  {
   "cell_type": "code",
   "execution_count": null,
   "metadata": {},
   "outputs": [],
   "source": []
  },
  {
   "cell_type": "code",
   "execution_count": null,
   "metadata": {},
   "outputs": [],
   "source": []
  }
 ],
 "metadata": {
  "kernelspec": {
   "display_name": "Python 3",
   "language": "python",
   "name": "python3"
  },
  "language_info": {
   "codemirror_mode": {
    "name": "ipython",
    "version": 3
   },
   "file_extension": ".py",
   "mimetype": "text/x-python",
   "name": "python",
   "nbconvert_exporter": "python",
   "pygments_lexer": "ipython3",
   "version": "3.8.3"
  }
 },
 "nbformat": 4,
 "nbformat_minor": 4
}
